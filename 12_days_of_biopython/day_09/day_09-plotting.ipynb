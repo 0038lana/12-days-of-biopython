{
  "cells": [
    {
      "cell_type": "markdown",
      "id": "4a127271",
      "metadata": {
        "id": "4a127271"
      },
      "source": [
        "# Plotting sequence length and GC content\n",
        "Here we will show some more examples of sequence parsing, using the Bio.SeqIO module described in one of the previous videos, plus the Python library matplotlib’s pylab plotting interface"
      ]
    },
    {
      "cell_type": "markdown",
      "id": "9376dfe2",
      "metadata": {
        "id": "9376dfe2"
      },
      "source": [
        "### Get data"
      ]
    },
    {
      "cell_type": "code",
      "execution_count": 1,
      "id": "5d5c87b7",
      "metadata": {
        "id": "5d5c87b7",
        "outputId": "e10373dc-7574-45ac-8dcd-6262b7eff398",
        "colab": {
          "base_uri": "https://localhost:8080/"
        }
      },
      "outputs": [
        {
          "output_type": "stream",
          "name": "stdout",
          "text": [
            "--2024-11-02 04:15:40--  https://raw.githubusercontent.com/biopython/biopython/master/Doc/examples/ls_orchid.fasta\n",
            "Resolving raw.githubusercontent.com (raw.githubusercontent.com)... 185.199.108.133, 185.199.109.133, 185.199.110.133, ...\n",
            "Connecting to raw.githubusercontent.com (raw.githubusercontent.com)|185.199.108.133|:443... connected.\n",
            "HTTP request sent, awaiting response... 200 OK\n",
            "Length: 76480 (75K) [text/plain]\n",
            "Saving to: ‘ls_orchid.fasta’\n",
            "\n",
            "\rls_orchid.fasta       0%[                    ]       0  --.-KB/s               \rls_orchid.fasta     100%[===================>]  74.69K  --.-KB/s    in 0.02s   \n",
            "\n",
            "2024-11-02 04:15:41 (3.30 MB/s) - ‘ls_orchid.fasta’ saved [76480/76480]\n",
            "\n"
          ]
        }
      ],
      "source": [
        "!wget https://raw.githubusercontent.com/biopython/biopython/master/Doc/examples/ls_orchid.fasta"
      ]
    },
    {
      "cell_type": "code",
      "source": [
        "!wc -l ls_orchid.fasta\n",
        "print(\"-\"*100)\n",
        "# first sample in file\n",
        "!head -n 13 ls_orchid.fasta\n",
        "print(\"-\"*100)\n",
        "# last sample in file\n",
        "!tail -n 12 ls_orchid.fasta\n",
        "print(\"-\"*100)\n",
        "# counting data\n",
        "!grep -c '^>gi' ls_orchid.fasta"
      ],
      "metadata": {
        "id": "VHmdvXZmCfi2",
        "outputId": "3e8448db-411e-4977-e1b2-e5f8088ae337",
        "colab": {
          "base_uri": "https://localhost:8080/"
        }
      },
      "id": "VHmdvXZmCfi2",
      "execution_count": 6,
      "outputs": [
        {
          "output_type": "stream",
          "name": "stdout",
          "text": [
            "1197 ls_orchid.fasta\n",
            "----------------------------------------------------------------------------------------------------\n",
            ">gi|2765658|emb|Z78533.1|CIZ78533 C.irapeanum 5.8S rRNA gene and ITS1 and ITS2 DNA\n",
            "CGTAACAAGGTTTCCGTAGGTGAACCTGCGGAAGGATCATTGATGAGACCGTGGAATAAACGATCGAGTG\n",
            "AATCCGGAGGACCGGTGTACTCAGCTCACCGGGGGCATTGCTCCCGTGGTGACCCTGATTTGTTGTTGGG\n",
            "CCGCCTCGGGAGCGTCCATGGCGGGTTTGAACCTCTAGCCCGGCGCAGTTTGGGCGCCAAGCCATATGAA\n",
            "AGCATCACCGGCGAATGGCATTGTCTTCCCCAAAACCCGGAGCGGCGGCGTGCTGTCGCGTGCCCAATGA\n",
            "ATTTTGATGACTCTCGCAAACGGGAATCTTGGCTCTTTGCATCGGATGGAAGGACGCAGCGAAATGCGAT\n",
            "AAGTGGTGTGAATTGCAAGATCCCGTGAACCATCGAGTCTTTTGAACGCAAGTTGCGCCCGAGGCCATCA\n",
            "GGCTAAGGGCACGCCTGCTTGGGCGTCGCGCTTCGTCTCTCTCCTGCCAATGCTTGCCCGGCATACAGCC\n",
            "AGGCCGGCGTGGTGCGGATGTGAAAGATTGGCCCCTTGTGCCTAGGTGCGGCGGGTCCAAGAGCTGGTGT\n",
            "TTTGATGGCCCGGAACCCGGCAAGAGGTGGACGGATGCTGGCAGCAGCTGCCGTGCGAATCCCCCATGTT\n",
            "GTCGTGCTTGTCGGACAGGCAGGAGAACCCTTCCGAACCCCAATGGAGGGCGGTTGACCGCCATTCGGAT\n",
            "GTGACCCCAGGTCAGGCGGGGGCACCCGCTGAGTTTACGC\n",
            "\n",
            "----------------------------------------------------------------------------------------------------\n",
            "\n",
            ">gi|2765564|emb|Z78439.1|PBZ78439 P.barbatum 5.8S rRNA gene and ITS1 and ITS2 DNA\n",
            "CATTGTTGAGATCACATAATAATTGATCGAGTTAATCTGGAGGATCTGTTTACTTTGGTCACCCATGGGC\n",
            "ATTTGCTGTTGAAGTGACCTAGATTTGCCATCGAGCCTCCTTGGGAGCTTTCTTGTTGGCGAGATCTAAA\n",
            "CCCCTGCCCGGCGGAGTTGGGCGCCAAGTCATATGACACATAATTGGTGAAGGGGGTGGTAATCCTGCCC\n",
            "TGACCCTCCCCAAATTATTTTTTTAACAACTCTCAGCAACGGATATCTCGGCTCTTGCATCGATGAAGAA\n",
            "CGCAGCGAAATGCGATAATGGTGTGAATTGCAGAATCCCGTGAACATCGAGTCTTTGAACGCAAGTTGCG\n",
            "CCCGAGGCCATCAGGCCAAGGGCACGCCTGCCTGGGCATTGCGAGTCATATCTCTCCCTTAATGAGGCTG\n",
            "TCCATACATACTGTTCAGCCGGTGCGGATGTGAGTTTGGCCCCTTGTTCTTTGGTACGGGGGGTCTAAGA\n",
            "GCTGCATGGGCTTTGGATGGTCCTAAATACGGAAAGAGGTGGACGAACTATGCTACAACAAAATTGTTGT\n",
            "GCAAATGCCCCGGTTGGCCGTTTAGTTGGGCC\n",
            "\n",
            "----------------------------------------------------------------------------------------------------\n",
            "94\n"
          ]
        }
      ]
    },
    {
      "cell_type": "markdown",
      "id": "43f06f3b",
      "metadata": {
        "id": "43f06f3b"
      },
      "source": [
        "### Parse FASTA file"
      ]
    },
    {
      "cell_type": "code",
      "execution_count": null,
      "id": "7159e73f",
      "metadata": {
        "id": "7159e73f",
        "outputId": "7ea73a8a-922e-4326-d741-d4670d198fa4",
        "colab": {
          "base_uri": "https://localhost:8080/"
        }
      },
      "outputs": [
        {
          "output_type": "stream",
          "name": "stdout",
          "text": [
            "Requirement already satisfied: biopython in /usr/local/lib/python3.10/dist-packages (1.84)\n",
            "Requirement already satisfied: numpy in /usr/local/lib/python3.10/dist-packages (from biopython) (1.26.4)\n"
          ]
        }
      ],
      "source": [
        "!pip install biopython\n",
        "from Bio import SeqIO\n",
        "\n",
        "# sequences = []\n",
        "# for seq_record in SeqIO.parse(\"ls_orchid.fasta\", \"fasta\"):\n",
        "#     sequences.append(seq_record.seq)\n",
        "\n",
        "def parse_FASTA(path_file:str)->list:\n",
        "    \"\"\"\n",
        "    Parse path file and return list of Bio.Seq.Seq objects.\n",
        "\n",
        "    Parameters\n",
        "    ----------\n",
        "    path : str\n",
        "        path file FASTA.\n",
        "\n",
        "    Returns\n",
        "    -------\n",
        "    list\n",
        "        list of Bio.Seq.Seq objects.\n",
        "\n",
        "    Raises\n",
        "    ------\n",
        "    ModuleNotFoundError:\n",
        "        No module named 'Bio', pip install biopython\n",
        "\n",
        "    FileNotFoundError\n",
        "        No such file or directory\n",
        "    \"\"\"\n",
        "    return [seq_record.seq for seq_record in SeqIO.parse(path_file, \"fasta\")]"
      ]
    },
    {
      "cell_type": "code",
      "source": [
        "sequences = []\n",
        "%time sequences = parse_FASTA(\"ls_orchid.fasta\")\n",
        "print(f\"sequences type : {type(sequences)}\")\n",
        "print(f\"sequences[0] type :{type(sequences[0])}\")\n",
        "print(f\"len sequences :{len(sequences)}\")\n",
        "max_seq_index = sequences.index(max(sequences, key=len))\n",
        "print(f\"seq with max len : sequences[{max_seq_index}] len = {len(sequences[max_seq_index])}\")\n",
        "min_seq_index = sequences.index(min(sequences, key=len))\n",
        "print(f\"seq with min len : sequences[{min_seq_index}] len = {len(sequences[min_seq_index])}\")"
      ],
      "metadata": {
        "id": "JmwDCbQpFYNA",
        "outputId": "021091b3-efc6-4e0e-bd17-2c9360f17e3b",
        "colab": {
          "base_uri": "https://localhost:8080/"
        }
      },
      "id": "JmwDCbQpFYNA",
      "execution_count": null,
      "outputs": [
        {
          "output_type": "stream",
          "name": "stdout",
          "text": [
            "CPU times: user 2.57 ms, sys: 809 µs, total: 3.38 ms\n",
            "Wall time: 4.22 ms\n",
            "sequences type : <class 'list'>\n",
            "sequences[0] type :<class 'Bio.Seq.Seq'>\n",
            "len sequences :94\n",
            "seq with max len : sequences[37] len = 789\n",
            "seq with min len : sequences[51] len = 572\n"
          ]
        }
      ]
    },
    {
      "cell_type": "code",
      "execution_count": null,
      "id": "9ac4651e",
      "metadata": {
        "id": "9ac4651e",
        "outputId": "75963256-1a46-44da-ef51-82cfa7ca0ae3",
        "colab": {
          "base_uri": "https://localhost:8080/"
        }
      },
      "outputs": [
        {
          "output_type": "stream",
          "name": "stdout",
          "text": [
            "[Seq('CGTAACAAGGTTTCCGTAGGTGAACCTGCGGAAGGATCATTGATGAGACCGTGG...CGC'),\n",
            " Seq('CGTAACAAGGTTTCCGTAGGTGAACCTGCGGAAGGATCATTGTTGAGACAACAG...GGC'),\n",
            " Seq('CGTAACAAGGTTTCCGTAGGTGAACCTGCGGAAGGATCATTGTTGAGACAGCAG...TAA')]\n",
            "70\n"
          ]
        }
      ],
      "source": [
        "from pprint import pprint\n",
        "pprint(sequences[0:3])\n",
        "pprint(sequences[0].count(\"GC\"))"
      ]
    },
    {
      "cell_type": "markdown",
      "id": "dfe7db73",
      "metadata": {
        "id": "dfe7db73"
      },
      "source": [
        "### Histogram of sequence lengths"
      ]
    },
    {
      "cell_type": "code",
      "execution_count": null,
      "id": "b9cfe225",
      "metadata": {
        "id": "b9cfe225",
        "outputId": "067b5719-9c14-41ac-95b3-864efdd8a8ac",
        "colab": {
          "base_uri": "https://localhost:8080/",
          "height": 493
        }
      },
      "outputs": [
        {
          "output_type": "display_data",
          "data": {
            "text/plain": [
              "<Figure size 640x480 with 1 Axes>"
            ],
            "image/png": "[encoded data removed]"
          },
          "metadata": {}
        }
      ],
      "source": [
        "sizes = [len(rec) for rec in sequences]\n",
        "\n",
        "import matplotlib.pyplot as plt\n",
        "plt.hist(sizes, bins=20)\n",
        "plt.title(f\"{len(sizes)} orchid sequences\\nLengths {min(sizes)} to {max(sizes)}\")\n",
        "plt.xlabel(\"Sequence length (bp)\")\n",
        "plt.ylabel(\"Count\")\n",
        "plt.show()"
      ]
    },
    {
      "cell_type": "markdown",
      "id": "baa91f4a",
      "metadata": {
        "id": "baa91f4a"
      },
      "source": [
        "Notice that most of these orchid sequences are about 740 bp long!"
      ]
    },
    {
      "cell_type": "markdown",
      "id": "ddb1ccfa",
      "metadata": {
        "id": "ddb1ccfa"
      },
      "source": [
        "### Plot of sequence GC%\n",
        "Having read in each sequence and calculated the GC%, we will sort them into ascending order.\n",
        "\n",
        "GC refers to the two nucleotide bases Guanine (G) and Cytosine (C) that are found in DNA (Deoxyribonucleic acid) and RNA (Ribonucleic acid) molecules.\n",
        "\n",
        "In DNA, the four nucleotide bases are:\n",
        "\n",
        "1. Adenine (A)\n",
        "2. Guanine (G)\n",
        "3. Cytosine (C)\n",
        "4. Thymine (T)\n",
        "\n",
        "In RNA, the four nucleotide bases are:\n",
        "\n",
        "1. Adenine (A)\n",
        "2. Guanine (G)\n",
        "3. Cytosine (C)\n",
        "4. Uracil (U)\n",
        "\n",
        "The GC content of a DNA or RNA molecule refers to the proportion of G and C bases relative to the total number of bases. GC-rich regions of DNA are typically more stable and have a higher melting point than AT-rich regions.\n",
        "\n",
        "GC content is an important characteristic of DNA and RNA molecules, and it can affect various biological processes, such as:\n",
        "\n",
        "* DNA replication and repair\n",
        "* Gene expression and regulation\n",
        "* Protein binding and interaction\n",
        "* Evolutionary conservation and divergence\n",
        "\n",
        "GC content can also be used to identify and classify different types of DNA and RNA molecules, such as:\n",
        "\n",
        "* GC-rich genes and regulatory elements\n",
        "* AT-rich repetitive sequences\n",
        "* GC-poor non-coding regions\n",
        "\n",
        "In the context of the `gc_fraction` function from Biopython, the GC fraction is calculated as the ratio of G and C bases to the total number of bases in a DNA or RNA sequence.\n",
        "\n",
        "In the context of the `gc_fraction` function from Biopython, the GC fraction is calculated as:\n",
        "\n",
        "GC fraction = (Number of G bases + Number of C bases) / Total number of bases\n",
        "\n",
        "This calculation is typically expressed as a decimal value between 0 and 1, where:\n",
        "\n",
        "* 0 represents 0% GC content (i.e., no G or C bases)\n",
        "* 1 represents 100% GC content (i.e., only G and C bases)\n",
        "* 0.5 represents 50% GC content (i.e., equal numbers of G, C, A, and T bases)\n",
        "\n",
        "For example, if a DNA sequence has 10 G bases, 10 C bases, 10 A bases, and 10 T bases, the GC fraction would be:\n",
        "\n",
        "GC fraction = (10 + 10) / (10 + 10 + 10 + 10) = 20 / 40 = 0.5\n",
        "\n",
        "This means that the DNA sequence has a GC content of 50%."
      ]
    },
    {
      "cell_type": "code",
      "execution_count": null,
      "id": "3f824ec0",
      "metadata": {
        "id": "3f824ec0"
      },
      "outputs": [],
      "source": [
        "# from Bio.SeqUtils import GC\n",
        "# ImportError: cannot import name 'GC' from 'Bio.SeqUtils' (/usr/local/lib/python3.10/dist-packages/Bio/SeqUtils/__init__.py)\n",
        "from Bio.SeqUtils import gc_fraction as GC\n",
        "# multiply in 100 for percentage\n",
        "gc_values = sorted(GC(rec)*100 for rec in sequences)"
      ]
    },
    {
      "cell_type": "code",
      "execution_count": null,
      "id": "92e4d623",
      "metadata": {
        "id": "92e4d623",
        "outputId": "a3a05e6b-1c2e-4810-a022-d8b33327136c",
        "colab": {
          "base_uri": "https://localhost:8080/",
          "height": 493
        }
      },
      "outputs": [
        {
          "output_type": "display_data",
          "data": {
            "text/plain": [
              "<Figure size 640x480 with 1 Axes>"
            ],
            "image/png": "[encoded data removed]"
          },
          "metadata": {}
        }
      ],
      "source": [
        "plt.plot(gc_values)\n",
        "plt.title(f\"{len(gc_values)} orchid sequences\\nGC% {min(gc_values)} to {max(gc_values)}\")\n",
        "plt.xlabel(\"Genes\")\n",
        "plt.ylabel(\"GC%\")\n",
        "plt.show()"
      ]
    },
    {
      "cell_type": "markdown",
      "source": [
        "# Additionaly why does gc_fraction are important?\n",
        "GC fraction is important in various fields of biology and bioinformatics because it can affect the structure, function, and evolution of DNA and RNA molecules. Here are some reasons why GC fraction is important:\n",
        "\n",
        "1. **DNA stability**: GC-rich regions of DNA are more stable and have a higher melting point than AT-rich regions. This is because G-C base pairs have three hydrogen bonds, whereas A-T base pairs have only two.\n",
        "2. **Gene regulation**: GC-rich regions are often associated with gene regulatory elements, such as promoters and enhancers. These regions can bind transcription factors and other proteins that regulate gene expression.\n",
        "3. **Evolutionary conservation**: GC-rich regions are often conserved across different species, suggesting that they play important roles in evolution.\n",
        "4. **DNA replication and repair**: GC-rich regions can be more difficult to replicate and repair than AT-rich regions, which can lead to genetic instability.\n",
        "5. **Protein binding**: GC-rich regions can bind proteins that play important roles in gene regulation, DNA replication, and repair.\n",
        "6. **Microarray analysis**: GC fraction can affect the hybridization of DNA probes to microarrays, which can impact the accuracy of gene expression analysis.\n",
        "7. **PCR amplification**: GC-rich regions can be more difficult to amplify by PCR (polymerase chain reaction) than AT-rich regions, which can impact the accuracy of genetic analysis.\n",
        "8. **Genome assembly**: GC fraction can affect the assembly of genomes from next-generation sequencing data.\n",
        "9. **Epigenetics**: GC-rich regions can be associated with epigenetic marks, such as DNA methylation, which can impact gene expression.\n",
        "10. **Disease association**: GC-rich regions have been associated with various diseases, such as cancer and neurological disorders.\n",
        "\n",
        "Overall, GC fraction is an important characteristic of DNA and RNA molecules that can impact their structure, function, and evolution."
      ],
      "metadata": {
        "id": "b-VFtSeWX2tO"
      },
      "id": "b-VFtSeWX2tO"
    }
  ],
  "metadata": {
    "kernelspec": {
      "display_name": "Python (biopython-env)",
      "language": "python",
      "name": "12daysofbiopython-env"
    },
    "language_info": {
      "codemirror_mode": {
        "name": "ipython",
        "version": 3
      },
      "file_extension": ".py",
      "mimetype": "text/x-python",
      "name": "python",
      "nbconvert_exporter": "python",
      "pygments_lexer": "ipython3",
      "version": "3.8.12"
    },
    "colab": {
      "provenance": []
    }
  },
  "nbformat": 4,
  "nbformat_minor": 5
}