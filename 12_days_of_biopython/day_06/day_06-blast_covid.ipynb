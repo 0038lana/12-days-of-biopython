{
 "cells": [
  {
   "cell_type": "markdown",
   "id": "b9092402",
   "metadata": {},
   "source": [
    "# BLAST search of covid\n",
    "Now that we have obtain our protein sequence, let’s now performing the NCBI BLAST (Basic Local Alignment Search Tool) and list the parameters to identify the best aligned sequence.\n",
    "\n",
    "Use longest protein sequence from covid genome saved in file from last lecture (day 5)"
   ]
  },
  {
   "cell_type": "code",
   "execution_count": 26,
   "id": "5165c099",
   "metadata": {},
   "outputs": [],
   "source": [
    "from Bio import SeqIO\n",
    "protein_seq = SeqIO.read(\"protein_seq.fasta\", \"fasta\")"
   ]
  },
  {
   "cell_type": "code",
   "execution_count": 27,
   "id": "8ea475a3",
   "metadata": {},
   "outputs": [
    {
     "data": {
      "text/plain": [
       "Seq('CTIVFKRVCGVSAARLTPCGTGTSTDVVYRAFDIYNDKVAGFAKFLKTNCCRFQ...VNN')"
      ]
     },
     "execution_count": 27,
     "metadata": {},
     "output_type": "execute_result"
    }
   ],
   "source": [
    "protein_seq.seq"
   ]
  },
  {
   "cell_type": "markdown",
   "id": "0b24261c",
   "metadata": {},
   "source": [
    "Here we will use our NCBI BLAST knowledge from day 4 lecture. In BLAST lecture we used NCBIXML to read result from BLAST, but here we are going to use **SearchIO**, which will soon replace the older Bio.Blast module, as this provides a more general framework handling other related sequence searching tools as well."
   ]
  },
  {
   "cell_type": "code",
   "execution_count": null,
   "id": "84556a12",
   "metadata": {},
   "outputs": [],
   "source": [
    "from Bio.Blast import NCBIWWW\n",
    "result_handle = NCBIWWW.qblast(\"blastp\", \"pdb\", protein_seq.seq) # pdb - protein data bank"
   ]
  },
  {
   "cell_type": "code",
   "execution_count": null,
   "id": "f6386d62",
   "metadata": {},
   "outputs": [],
   "source": [
    "from Bio import SearchIO\n",
    "\n",
    "blast_records = SearchIO.read(result_handle, 'blast-xml')"
   ]
  },
  {
   "cell_type": "code",
   "execution_count": null,
   "id": "566f3125",
   "metadata": {},
   "outputs": [],
   "source": [
    "print(blast_records[0:10])"
   ]
  },
  {
   "cell_type": "code",
   "execution_count": null,
   "id": "4b982279",
   "metadata": {},
   "outputs": [],
   "source": [
    "for blast_record in blast_records:\n",
    "    print(f\"Sequence ID: {blast_record.id}\")\n",
    "    print(f\"description: {blast_record.description}\")\n",
    "    print(f\"E value: {blast_record[0].evalue}\")\n",
    "    print(f\"Bit Score:  {blast_record[0].bitscore}\")\n",
    "    print(f\"alignment:\\n{blast_record[0].aln}\")\n",
    "    print()"
   ]
  },
  {
   "cell_type": "code",
   "execution_count": null,
   "id": "83098b91",
   "metadata": {},
   "outputs": [],
   "source": []
  }
 ],
 "metadata": {
  "kernelspec": {
   "display_name": "Python (biopython-env)",
   "language": "python",
   "name": "12daysofbiopython-env"
  },
  "language_info": {
   "codemirror_mode": {
    "name": "ipython",
    "version": 3
   },
   "file_extension": ".py",
   "mimetype": "text/x-python",
   "name": "python",
   "nbconvert_exporter": "python",
   "pygments_lexer": "ipython3",
   "version": "3.8.12"
  }
 },
 "nbformat": 4,
 "nbformat_minor": 5
}
